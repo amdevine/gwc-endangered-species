{
 "cells": [
  {
   "cell_type": "markdown",
   "metadata": {
    "slideshow": {
     "slide_type": "slide"
    }
   },
   "source": [
    "Last updated: 27 Jul 2018\n",
    "\n",
    "# Exploring US Endangered Species Data with Python\n",
    "\n",
    "This notebook retrieves data from the US Fish & Wildlife Service on endangered and threatened species listed under the Endangered Species Act. It runs a simple analysis and returns a graph of species added under the ESA over time."
   ]
  },
  {
   "cell_type": "code",
   "execution_count": null,
   "metadata": {
    "slideshow": {
     "slide_type": "slide"
    }
   },
   "outputs": [],
   "source": [
    "%matplotlib inline\n",
    "from bs4 import BeautifulSoup \n",
    "import pandas as pd\n",
    "import re, requests\n",
    "import matplotlib.pyplot as plt\n",
    "plt.rcParams['font.size'] = 16\n",
    "plt.rcParams['figure.figsize'] = [16, 8]"
   ]
  },
  {
   "cell_type": "markdown",
   "metadata": {
    "slideshow": {
     "slide_type": "slide"
    }
   },
   "source": [
    "## Data source\n",
    "\n",
    "Data are retrieved from the U.S. Fish & Wildlife Service [Environmental Conservation Online System](https://ecos.fws.gov/ecp/), which reports on Threatened & Endangered species in the United States that are protected by the Endangered Species Act (ESA). \n",
    "\n",
    "There are a number of different reports are available here: https://ecos.fws.gov/ecp/species-reports. They are mostly provided as sortable tables, viewable online."
   ]
  },
  {
   "cell_type": "markdown",
   "metadata": {
    "slideshow": {
     "slide_type": "slide"
    }
   },
   "source": [
    "## What question are we asking?\n",
    "\n",
    "After looking at some of the available datasets, it seems like there are data available on how many requests were made to list species, and how many species were officially listed.\n",
    "\n",
    "For the purposes of this analysis, let's ask the following question:\n",
    "\n",
    "> *How has the rate of species being listed under the ESA changed over time?*"
   ]
  },
  {
   "cell_type": "markdown",
   "metadata": {
    "slideshow": {
     "slide_type": "slide"
    }
   },
   "source": [
    "## Downloading listing years\n",
    "\n",
    "We can use the `requests` and `BeautifulSoup` libraries to scrape the [U.S. Federal Endangered and Threatened Species by Calendar Year](https://ecos.fws.gov/ecp0/reports/species-listings-count-by-year-report) report to get the years that species were listed under the ESA."
   ]
  },
  {
   "cell_type": "code",
   "execution_count": null,
   "metadata": {
    "slideshow": {
     "slide_type": "slide"
    }
   },
   "outputs": [],
   "source": [
    "url = 'https://ecos.fws.gov/ecp0/reports/species-listings-count-by-year-report'\n",
    "r = requests.get(url)\n",
    "soup = BeautifulSoup(r.text, \"html5lib\")\n",
    "rows = soup.table.find_all('tr')\n",
    "listing_years = set()\n",
    "for row in rows:\n",
    "    values = row.find_all('td')\n",
    "    if len(values) > 0:\n",
    "        listing_years.add(values[0].string)\n",
    "listing_years = sorted(list(listing_years))\n",
    "print('Years when species were listed: {}'.format(\", \".join(listing_years)))"
   ]
  },
  {
   "cell_type": "markdown",
   "metadata": {
    "slideshow": {
     "slide_type": "slide"
    }
   },
   "source": [
    "## Downloading species listed for each year\n",
    "\n",
    "We can take the list of years we determined from the last step, and again use `requests` and `BeautifulSoup` to query the [Species Listed During Calendar Year](https://ecos.fws.gov/ecp0/reports/species-listings-by-year-report?year=2018) reports for each year in `listing_years`."
   ]
  },
  {
   "cell_type": "code",
   "execution_count": null,
   "metadata": {
    "slideshow": {
     "slide_type": "slide"
    }
   },
   "outputs": [],
   "source": [
    "url = 'https://ecos.fws.gov/ecp0/reports/species-listings-by-year-report'\n",
    "all_species = []\n",
    "for y in listing_years:\n",
    "    params = {'year': y}\n",
    "    r = requests.get(url, params)\n",
    "    soup = BeautifulSoup(r.text, \"html5lib\")\n",
    "    rows = soup.table.find_all('tr')\n",
    "    for row in rows:\n",
    "        species = {}\n",
    "        data = row.find_all('td')\n",
    "        if len(data) > 0:\n",
    "            splink = data[2].a['href']\n",
    "            spcode = re.findall('spcode=(\\w{4})', splink)[0]\n",
    "            species['spcode'] = spcode\n",
    "            species['sciname'] = data[2].string\n",
    "            species['status'] = data[3].string\n",
    "            species['listyear'] = y\n",
    "            all_species.append(species)\n",
    "print(f'{len(all_species)} species records read from Species Listed During Calendar Year')"
   ]
  },
  {
   "cell_type": "markdown",
   "metadata": {
    "slideshow": {
     "slide_type": "slide"
    }
   },
   "source": [
    "Let's take the `all_species` records and put them into a `pandas` DataFrame. There are a number of duplicate values in the DataFrame that we can also drop."
   ]
  },
  {
   "cell_type": "code",
   "execution_count": null,
   "metadata": {
    "scrolled": true,
    "slideshow": {
     "slide_type": "slide"
    }
   },
   "outputs": [],
   "source": [
    "df_species = pd.DataFrame(all_species)\n",
    "df_species = df_species[['spcode', 'sciname', 'status', 'listyear']]\n",
    "df_species = df_species.drop_duplicates()\n",
    "print(f'{len(df_species)} species records remaining after dropping duplicates')\n",
    "df_species.head()"
   ]
  },
  {
   "cell_type": "markdown",
   "metadata": {
    "slideshow": {
     "slide_type": "slide"
    }
   },
   "source": [
    "Let's look at the numbers of species listed in each year."
   ]
  },
  {
   "cell_type": "code",
   "execution_count": null,
   "metadata": {
    "slideshow": {
     "slide_type": "-"
    }
   },
   "outputs": [],
   "source": [
    "year_counts = df_species['listyear'].value_counts().sort_index()\n",
    "plt.rcParams['figure.figsize'] = [16, 8]\n",
    "year_counts.plot(kind='bar', color='orange');"
   ]
  },
  {
   "cell_type": "markdown",
   "metadata": {
    "slideshow": {
     "slide_type": "slide"
    }
   },
   "source": [
    "Let's also look at the percentages of each current conservation status for all species"
   ]
  },
  {
   "cell_type": "code",
   "execution_count": null,
   "metadata": {
    "slideshow": {
     "slide_type": "slide"
    }
   },
   "outputs": [],
   "source": [
    "status_count = df_species['status'].value_counts().sort_index()\n",
    "plt.rcParams['figure.figsize'] = [8, 8]\n",
    "status_count.plot(kind='pie', autopct='%1.1f%%');"
   ]
  },
  {
   "cell_type": "markdown",
   "metadata": {},
   "source": [
    "## Downloading petition data\n",
    "\n",
    "One of the ways that species get listed under the ESA is by petition from the public. ECOS makes these petitions available in a nice JSON format for us."
   ]
  },
  {
   "cell_type": "code",
   "execution_count": null,
   "metadata": {},
   "outputs": [],
   "source": [
    "url = 'https://ecos.fws.gov/ecp/report/table/petitions-received.json'\n",
    "params = {'active': 'any'}\n",
    "r = requests.get(url, params).json()\n",
    "print('{} petition records downloaded'.format(len(r['data'])))"
   ]
  },
  {
   "cell_type": "code",
   "execution_count": null,
   "metadata": {},
   "outputs": [],
   "source": [
    "columnheaders = [x['title'] for x in r['metadata']['columns']]\n",
    "print('Fields available in petition data:\\n{}'.format(\"; \".join(columnheaders)))"
   ]
  },
  {
   "cell_type": "markdown",
   "metadata": {},
   "source": [
    "Let's put the petition data into a DataFrame as well."
   ]
  },
  {
   "cell_type": "code",
   "execution_count": null,
   "metadata": {},
   "outputs": [],
   "source": [
    "df_petitions = pd.DataFrame(r['data'], columns=columnheaders)\n",
    "df_petitions.head()"
   ]
  },
  {
   "cell_type": "markdown",
   "metadata": {},
   "source": [
    "The `Date Received by the FWS` field contains the date that the petition was submitted. We can add a column to the petition data that contains the year component of this date."
   ]
  },
  {
   "cell_type": "code",
   "execution_count": null,
   "metadata": {},
   "outputs": [],
   "source": [
    "df_petitions['year_received'] = df_petitions.apply(lambda x: x['Date Received by the FWS'][-4:], axis=1)\n",
    "df_petitions.head()"
   ]
  },
  {
   "cell_type": "markdown",
   "metadata": {},
   "source": [
    "Some petitions request that multiple species be listed under the ESA. We can find these exceptions if we look in the `Petition Title` field. We can use a function to check if the Petition Title refers to multiple species. "
   ]
  },
  {
   "cell_type": "code",
   "execution_count": null,
   "metadata": {},
   "outputs": [],
   "source": [
    "def parseSpeciesNumber(petitionTitle):\n",
    "    nspecies = re.findall('\\d+', petitionTitle)\n",
    "    if len(nspecies) > 0:\n",
    "        return int(nspecies[0])\n",
    "    else:\n",
    "        return 1"
   ]
  },
  {
   "cell_type": "code",
   "execution_count": null,
   "metadata": {},
   "outputs": [],
   "source": [
    "df_petitions['n_species'] = df_petitions.apply(lambda x: parseSpeciesNumber(x['Petition Title']), axis=1)\n",
    "df_petitions.at[576, 'n_species'] = 1\n",
    "df_petitions.at[577, 'n_species'] = 1\n",
    "df_petitions.at[582, 'n_species'] = 1\n",
    "df_petitions.at[598, 'n_species'] = 1\n",
    "df_petitions.at[715, 'n_species'] = 1\n",
    "df_petitions.sort_values(by='n_species', ascending=False).head()"
   ]
  },
  {
   "cell_type": "markdown",
   "metadata": {},
   "source": [
    "Let's look at a bar graph to see the number of species petitioned per year."
   ]
  },
  {
   "cell_type": "code",
   "execution_count": null,
   "metadata": {},
   "outputs": [],
   "source": [
    "petitions_per_year = df_petitions[['year_received', 'n_species']].groupby('year_received').sum()\n",
    "plt.rcParams['figure.figsize'] = [16, 8]\n",
    "petitions_per_year.plot(kind='bar', color='blue');"
   ]
  },
  {
   "cell_type": "markdown",
   "metadata": {},
   "source": [
    "## Combining species and petition data\n",
    "\n",
    "We can merge the two DataFrames that summarize species and petitions by year."
   ]
  },
  {
   "cell_type": "code",
   "execution_count": null,
   "metadata": {},
   "outputs": [],
   "source": [
    "df_merged = pd.concat([petitions_per_year, year_counts], axis=1, sort=True).fillna(0)\n",
    "df_merged = df_merged.rename(index=str, columns={\"listyear\": \"Species Added\", \"n_species\": \"Species Petitioned\"})\n",
    "df_merged.head()"
   ]
  },
  {
   "cell_type": "markdown",
   "metadata": {},
   "source": [
    "We can plot the merged DataFrame to see how the species added and the species petitioned compare each year."
   ]
  },
  {
   "cell_type": "code",
   "execution_count": null,
   "metadata": {},
   "outputs": [],
   "source": [
    "df_merged.plot.bar();"
   ]
  },
  {
   "cell_type": "markdown",
   "metadata": {},
   "source": [
    "## Conclusions\n",
    "\n",
    "There seem to be a couple broad trends we can draw from all our analyses.\n",
    "\n",
    "- Looking at the numbers of petitions per year, it seems that petitioning to add species to the ESA has gotten more common over time. There are few petitions before 1990, and what seem to be a significant amount after 2000. \n",
    "\n",
    "\n",
    "- Looking at the species added per year, the data seem to be multimodal. Perhaps this could reflect the political climate of the time, and the executive branch's views on protecting endangered and threatened species?\n",
    "\n",
    "And there are more analyses we could pursue, if we wanted to delve more deeply:\n",
    "\n",
    "- Explore the actual `Petition Finding(s)` from the petition data. How successful are petitions?\n",
    "\n",
    "\n",
    "- Do petitions or FWS scientists have a greater impact on getting species listed under the ESA?\n",
    "\n",
    "\n",
    "- How do the types of species (plant, animal, invertebrate, etc.) affect the success of a petition, or the likelihood that a species will be listed?\n",
    "\n",
    "Feel free to clone this notebook and do some of these further analyses, if you are interested in learning more!"
   ]
  }
 ],
 "metadata": {
  "kernelspec": {
   "display_name": "Python 3",
   "language": "python",
   "name": "python3"
  },
  "language_info": {
   "codemirror_mode": {
    "name": "ipython",
    "version": 3
   },
   "file_extension": ".py",
   "mimetype": "text/x-python",
   "name": "python",
   "nbconvert_exporter": "python",
   "pygments_lexer": "ipython3",
   "version": "3.6.5"
  }
 },
 "nbformat": 4,
 "nbformat_minor": 2
}
