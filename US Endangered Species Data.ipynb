{
 "cells": [
  {
   "cell_type": "markdown",
   "metadata": {
    "slideshow": {
     "slide_type": "slide"
    }
   },
   "source": [
    "Last updated: 27 Jul 2018\n",
    "\n",
    "# Exploring US Endangered Species Data with Python\n",
    "\n",
    "This notebook retrieves data from the US Fish & Wildlife Service on endangered and threatened species listed under the Endangered Species Act. It runs a simple analysis and returns a graph of species added under the ESA over time."
   ]
  },
  {
   "cell_type": "code",
   "execution_count": 1,
   "metadata": {
    "slideshow": {
     "slide_type": "slide"
    }
   },
   "outputs": [],
   "source": [
    "%matplotlib inline\n",
    "from bs4 import BeautifulSoup \n",
    "import pandas as pd\n",
    "import re, requests\n",
    "import matplotlib.pyplot as plt\n",
    "plt.rcParams['font.size'] = 16\n",
    "plt.rcParams['figure.figsize'] = [16, 8]"
   ]
  },
  {
   "cell_type": "markdown",
   "metadata": {
    "slideshow": {
     "slide_type": "slide"
    }
   },
   "source": [
    "## Data source\n",
    "\n",
    "Data are retrieved from the U.S. Fish & Wildlife Service [Environmental Conservation Online System](https://ecos.fws.gov/ecp/), which reports on Threatened & Endangered species in the United States that are protected by the Endangered Species Act (ESA). \n",
    "\n",
    "There are a number of different reports are available here: https://ecos.fws.gov/ecp/species-reports. They are mostly provided as sortable tables, viewable online."
   ]
  },
  {
   "cell_type": "markdown",
   "metadata": {
    "slideshow": {
     "slide_type": "slide"
    }
   },
   "source": [
    "## What question are we asking?\n",
    "\n",
    "After looking at some of the available datasets, it seems like there are data available on how many requests were made to list species, and how many species were officially listed.\n",
    "\n",
    "For the purposes of this analysis, let's ask the following question:\n",
    "\n",
    "> *How has the rate of species being listed under the ESA changed over time?*"
   ]
  },
  {
   "cell_type": "markdown",
   "metadata": {
    "slideshow": {
     "slide_type": "slide"
    }
   },
   "source": [
    "## Downloading listing years\n",
    "\n",
    "We can use the `requests` and `BeautifulSoup` libraries to scrape the [U.S. Federal Endangered and Threatened Species by Calendar Year](https://ecos.fws.gov/ecp0/reports/species-listings-count-by-year-report) report to get the years that species were listed under the ESA."
   ]
  },
  {
   "cell_type": "code",
   "execution_count": 2,
   "metadata": {
    "slideshow": {
     "slide_type": "slide"
    }
   },
   "outputs": [
    {
     "name": "stdout",
     "output_type": "stream",
     "text": [
      "Years when species were listed: 1967, 1970, 1972, 1973, 1975, 1976, 1977, 1978, 1979, 1980, 1981, 1982, 1983, 1984, 1985, 1986, 1987, 1988, 1989, 1990, 1991, 1992, 1993, 1994, 1995, 1996, 1997, 1998, 1999, 2000, 2001, 2002, 2003, 2004, 2005, 2006, 2007, 2008, 2009, 2010, 2011, 2012, 2013, 2014, 2015, 2016, 2017, 2018\n"
     ]
    }
   ],
   "source": [
    "url = 'https://ecos.fws.gov/ecp0/reports/species-listings-count-by-year-report'\n",
    "r = requests.get(url)\n",
    "soup = BeautifulSoup(r.text, \"html5lib\")\n",
    "rows = soup.table.find_all('tr')\n",
    "listing_years = set()\n",
    "for row in rows:\n",
    "    values = row.find_all('td')\n",
    "    if len(values) > 0:\n",
    "        listing_years.add(values[0].string)\n",
    "listing_years = sorted(list(listing_years))\n",
    "print('Years when species were listed: {}'.format(\", \".join(listing_years)))"
   ]
  },
  {
   "cell_type": "markdown",
   "metadata": {
    "slideshow": {
     "slide_type": "slide"
    }
   },
   "source": [
    "## Downloading species listed for each year\n",
    "\n",
    "We can take the list of years we determined from the last step, and again use `requests` and `BeautifulSoup` to query the [Species Listed During Calendar Year](https://ecos.fws.gov/ecp0/reports/species-listings-by-year-report?year=2018) reports for each year in `listing_years`."
   ]
  },
  {
   "cell_type": "code",
   "execution_count": 3,
   "metadata": {
    "slideshow": {
     "slide_type": "slide"
    }
   },
   "outputs": [
    {
     "name": "stdout",
     "output_type": "stream",
     "text": [
      "3579 species records read from Species Listed During Calendar Year\n"
     ]
    }
   ],
   "source": [
    "url = 'https://ecos.fws.gov/ecp0/reports/species-listings-by-year-report'\n",
    "all_species = []\n",
    "for y in listing_years:\n",
    "    params = {'year': y}\n",
    "    r = requests.get(url, params)\n",
    "    soup = BeautifulSoup(r.text, \"html5lib\")\n",
    "    rows = soup.table.find_all('tr')\n",
    "    for row in rows:\n",
    "        species = {}\n",
    "        data = row.find_all('td')\n",
    "        if len(data) > 0:\n",
    "            splink = data[2].a['href']\n",
    "            spcode = re.findall('spcode=(\\w{4})', splink)[0]\n",
    "            species['spcode'] = spcode\n",
    "            species['sciname'] = data[2].string\n",
    "            species['status'] = data[3].string\n",
    "            species['listyear'] = y\n",
    "            all_species.append(species)\n",
    "print(f'{len(all_species)} species records read from Species Listed During Calendar Year')"
   ]
  },
  {
   "cell_type": "markdown",
   "metadata": {
    "slideshow": {
     "slide_type": "slide"
    }
   },
   "source": [
    "Let's take the `all_species` records and put them into a `pandas` DataFrame. There are a number of duplicate values in the DataFrame that we can also drop."
   ]
  },
  {
   "cell_type": "code",
   "execution_count": 4,
   "metadata": {
    "scrolled": true,
    "slideshow": {
     "slide_type": "slide"
    }
   },
   "outputs": [
    {
     "name": "stdout",
     "output_type": "stream",
     "text": [
      "1811 species records remaining after dropping duplicates\n"
     ]
    },
    {
     "data": {
      "text/html": [
       "<div>\n",
       "<style scoped>\n",
       "    .dataframe tbody tr th:only-of-type {\n",
       "        vertical-align: middle;\n",
       "    }\n",
       "\n",
       "    .dataframe tbody tr th {\n",
       "        vertical-align: top;\n",
       "    }\n",
       "\n",
       "    .dataframe thead th {\n",
       "        text-align: right;\n",
       "    }\n",
       "</style>\n",
       "<table border=\"1\" class=\"dataframe\">\n",
       "  <thead>\n",
       "    <tr style=\"text-align: right;\">\n",
       "      <th></th>\n",
       "      <th>spcode</th>\n",
       "      <th>sciname</th>\n",
       "      <th>status</th>\n",
       "      <th>listyear</th>\n",
       "    </tr>\n",
       "  </thead>\n",
       "  <tbody>\n",
       "    <tr>\n",
       "      <th>0</th>\n",
       "      <td>A009</td>\n",
       "      <td>Antilocapra americana sonoriensis</td>\n",
       "      <td>Endangered</td>\n",
       "      <td>1967</td>\n",
       "    </tr>\n",
       "    <tr>\n",
       "      <th>1</th>\n",
       "      <td>A0A8</td>\n",
       "      <td>Arctocephalus townsendi</td>\n",
       "      <td>Threatened</td>\n",
       "      <td>1967</td>\n",
       "    </tr>\n",
       "    <tr>\n",
       "      <th>2</th>\n",
       "      <td>A00F</td>\n",
       "      <td>Canis rufus</td>\n",
       "      <td>Endangered</td>\n",
       "      <td>1967</td>\n",
       "    </tr>\n",
       "    <tr>\n",
       "      <th>3</th>\n",
       "      <td>A004</td>\n",
       "      <td>Mustela nigripes</td>\n",
       "      <td>Endangered</td>\n",
       "      <td>1967</td>\n",
       "    </tr>\n",
       "    <tr>\n",
       "      <th>4</th>\n",
       "      <td>A000</td>\n",
       "      <td>Myotis sodalis</td>\n",
       "      <td>Endangered</td>\n",
       "      <td>1967</td>\n",
       "    </tr>\n",
       "  </tbody>\n",
       "</table>\n",
       "</div>"
      ],
      "text/plain": [
       "  spcode                            sciname      status listyear\n",
       "0   A009  Antilocapra americana sonoriensis  Endangered     1967\n",
       "1   A0A8            Arctocephalus townsendi  Threatened     1967\n",
       "2   A00F                        Canis rufus  Endangered     1967\n",
       "3   A004                   Mustela nigripes  Endangered     1967\n",
       "4   A000                     Myotis sodalis  Endangered     1967"
      ]
     },
     "execution_count": 4,
     "metadata": {},
     "output_type": "execute_result"
    }
   ],
   "source": [
    "df_species = pd.DataFrame(all_species)\n",
    "df_species = df_species[['spcode', 'sciname', 'status', 'listyear']]\n",
    "df_species = df_species.drop_duplicates()\n",
    "print(f'{len(df_species)} species records remaining after dropping duplicates')\n",
    "df_species.head()"
   ]
  },
  {
   "cell_type": "markdown",
   "metadata": {
    "slideshow": {
     "slide_type": "slide"
    }
   },
   "source": [
    "Let's look at the numbers of species listed in each year."
   ]
  },
  {
   "cell_type": "code",
   "execution_count": 5,
   "metadata": {
    "slideshow": {
     "slide_type": "-"
    }
   },
   "outputs": [
    {
     "data": {
      "image/png": "[encoded data removed]",
      "text/plain": [
       "<Figure size 1152x576 with 1 Axes>"
      ]
     },
     "metadata": {},
     "output_type": "display_data"
    }
   ],
   "source": [
    "year_counts = df_species['listyear'].value_counts().sort_index()\n",
    "plt.rcParams['figure.figsize'] = [16, 8]\n",
    "year_counts.plot(kind='bar', color='orange');"
   ]
  },
  {
   "cell_type": "markdown",
   "metadata": {
    "slideshow": {
     "slide_type": "slide"
    }
   },
   "source": [
    "Let's also look at the percentages of each current conservation status for all species"
   ]
  },
  {
   "cell_type": "code",
   "execution_count": 6,
   "metadata": {
    "slideshow": {
     "slide_type": "slide"
    }
   },
   "outputs": [
    {
     "data": {
      "image/png": "[encoded data removed]",
      "text/plain": [
       "<Figure size 576x576 with 1 Axes>"
      ]
     },
     "metadata": {},
     "output_type": "display_data"
    }
   ],
   "source": [
    "status_count = df_species['status'].value_counts().sort_index()\n",
    "plt.rcParams['figure.figsize'] = [8, 8]\n",
    "status_count.plot(kind='pie', autopct='%1.1f%%');"
   ]
  },
  {
   "cell_type": "markdown",
   "metadata": {},
   "source": [
    "## Downloading petition data\n",
    "\n",
    "One of the ways that species get listed under the ESA is by petition from the public. ECOS makes these petitions available in a nice JSON format for us."
   ]
  },
  {
   "cell_type": "code",
   "execution_count": 7,
   "metadata": {},
   "outputs": [
    {
     "name": "stdout",
     "output_type": "stream",
     "text": [
      "750 petition records downloaded\n"
     ]
    }
   ],
   "source": [
    "url = 'https://ecos.fws.gov/ecp/report/table/petitions-received.json'\n",
    "params = {'active': 'any'}\n",
    "r = requests.get(url, params).json()\n",
    "print('{} petition records downloaded'.format(len(r['data'])))"
   ]
  },
  {
   "cell_type": "code",
   "execution_count": 8,
   "metadata": {},
   "outputs": [
    {
     "name": "stdout",
     "output_type": "stream",
     "text": [
      "Fields available in petition data:\n",
      "Petition Title; Date Received by the FWS; Where the species is believed to or known to occur; Petitioner Name; Requested Action; Petition Finding(s); Active; Petitions Document(s)\n"
     ]
    }
   ],
   "source": [
    "columnheaders = [x['title'] for x in r['metadata']['columns']]\n",
    "print('Fields available in petition data:\\n{}'.format(\"; \".join(columnheaders)))"
   ]
  },
  {
   "cell_type": "markdown",
   "metadata": {},
   "source": [
    "Let's put the petition data into a DataFrame as well."
   ]
  },
  {
   "cell_type": "code",
   "execution_count": 9,
   "metadata": {},
   "outputs": [
    {
     "data": {
      "text/html": [
       "<div>\n",
       "<style scoped>\n",
       "    .dataframe tbody tr th:only-of-type {\n",
       "        vertical-align: middle;\n",
       "    }\n",
       "\n",
       "    .dataframe tbody tr th {\n",
       "        vertical-align: top;\n",
       "    }\n",
       "\n",
       "    .dataframe thead th {\n",
       "        text-align: right;\n",
       "    }\n",
       "</style>\n",
       "<table border=\"1\" class=\"dataframe\">\n",
       "  <thead>\n",
       "    <tr style=\"text-align: right;\">\n",
       "      <th></th>\n",
       "      <th>Petition Title</th>\n",
       "      <th>Date Received by the FWS</th>\n",
       "      <th>Where the species is believed to or known to occur</th>\n",
       "      <th>Petitioner Name</th>\n",
       "      <th>Requested Action</th>\n",
       "      <th>Petition Finding(s)</th>\n",
       "      <th>Active</th>\n",
       "      <th>Petitions Document(s)</th>\n",
       "    </tr>\n",
       "  </thead>\n",
       "  <tbody>\n",
       "    <tr>\n",
       "      <th>0</th>\n",
       "      <td>Petition to List the Dunes Sagebrush Lizard as...</td>\n",
       "      <td>06/01/2018</td>\n",
       "      <td>NM, TX</td>\n",
       "      <td>[Center for Biological Diversity, Defenders of...</td>\n",
       "      <td>[Listing: Threatened or Endangered, APA: Desig...</td>\n",
       "      <td>[{'name': 'Petition findings not yet made', 'u...</td>\n",
       "      <td>Yes</td>\n",
       "      <td>[{'name': 'Petition to List the Dunes Sagebrus...</td>\n",
       "    </tr>\n",
       "    <tr>\n",
       "      <th>1</th>\n",
       "      <td>Petition to List U.S. Populations of Lake Stur...</td>\n",
       "      <td>05/23/2018</td>\n",
       "      <td>AL, AR, GA, IA, IL, IN, KS, KY, LA, MI, MN, MO...</td>\n",
       "      <td>[Center for Biological Diversity]</td>\n",
       "      <td>[Listing: Threatened or Endangered, APA: Desig...</td>\n",
       "      <td>[{'name': 'Petition findings not yet made', 'u...</td>\n",
       "      <td>Yes</td>\n",
       "      <td>[{'name': 'Petition to List U.S. Populations o...</td>\n",
       "    </tr>\n",
       "    <tr>\n",
       "      <th>2</th>\n",
       "      <td>Petition to List the Siskiyou Mountains Salama...</td>\n",
       "      <td>03/12/2018</td>\n",
       "      <td>CA, OR</td>\n",
       "      <td>[Cascadia Wildlands, Center for Biological Div...</td>\n",
       "      <td>[Listing: Threatened or Endangered, APA: Desig...</td>\n",
       "      <td>[{'name': 'Petition findings not yet made', 'u...</td>\n",
       "      <td>Yes</td>\n",
       "      <td>[{'name': 'Petition to List the Siskiyou Mount...</td>\n",
       "    </tr>\n",
       "    <tr>\n",
       "      <th>3</th>\n",
       "      <td>Yellowstone Bison DPS</td>\n",
       "      <td>03/05/2018</td>\n",
       "      <td>CO, IA, MT, OK, SD, UT, WY, Canada, Mexico, Un...</td>\n",
       "      <td>[James Horsley]</td>\n",
       "      <td>[Listing: Threatened, APA: Designate Critical ...</td>\n",
       "      <td>[{'name': 'Petition findings not yet made', 'u...</td>\n",
       "      <td>Yes</td>\n",
       "      <td>[{'name': 'Yellowstone Bison Petition Volume 2...</td>\n",
       "    </tr>\n",
       "    <tr>\n",
       "      <th>4</th>\n",
       "      <td>PETITION TO LIST THE REFUGIO MANZANITA (ARCTOS...</td>\n",
       "      <td>11/30/2017</td>\n",
       "      <td>CA</td>\n",
       "      <td>[Los Padres ForestWatch, The Chaparral Institu...</td>\n",
       "      <td>[Listing: Endangered, APA: Designate Critical ...</td>\n",
       "      <td>[{'name': 'Petition findings not yet made', 'u...</td>\n",
       "      <td>Yes</td>\n",
       "      <td>[{'name': 'PETITION TO LIST THE REFUGIO MANZAN...</td>\n",
       "    </tr>\n",
       "  </tbody>\n",
       "</table>\n",
       "</div>"
      ],
      "text/plain": [
       "                                      Petition Title Date Received by the FWS  \\\n",
       "0  Petition to List the Dunes Sagebrush Lizard as...               06/01/2018   \n",
       "1  Petition to List U.S. Populations of Lake Stur...               05/23/2018   \n",
       "2  Petition to List the Siskiyou Mountains Salama...               03/12/2018   \n",
       "3                              Yellowstone Bison DPS               03/05/2018   \n",
       "4  PETITION TO LIST THE REFUGIO MANZANITA (ARCTOS...               11/30/2017   \n",
       "\n",
       "  Where the species is believed to or known to occur  \\\n",
       "0                                             NM, TX   \n",
       "1  AL, AR, GA, IA, IL, IN, KS, KY, LA, MI, MN, MO...   \n",
       "2                                             CA, OR   \n",
       "3  CO, IA, MT, OK, SD, UT, WY, Canada, Mexico, Un...   \n",
       "4                                                 CA   \n",
       "\n",
       "                                     Petitioner Name  \\\n",
       "0  [Center for Biological Diversity, Defenders of...   \n",
       "1                  [Center for Biological Diversity]   \n",
       "2  [Cascadia Wildlands, Center for Biological Div...   \n",
       "3                                    [James Horsley]   \n",
       "4  [Los Padres ForestWatch, The Chaparral Institu...   \n",
       "\n",
       "                                    Requested Action  \\\n",
       "0  [Listing: Threatened or Endangered, APA: Desig...   \n",
       "1  [Listing: Threatened or Endangered, APA: Desig...   \n",
       "2  [Listing: Threatened or Endangered, APA: Desig...   \n",
       "3  [Listing: Threatened, APA: Designate Critical ...   \n",
       "4  [Listing: Endangered, APA: Designate Critical ...   \n",
       "\n",
       "                                 Petition Finding(s) Active  \\\n",
       "0  [{'name': 'Petition findings not yet made', 'u...    Yes   \n",
       "1  [{'name': 'Petition findings not yet made', 'u...    Yes   \n",
       "2  [{'name': 'Petition findings not yet made', 'u...    Yes   \n",
       "3  [{'name': 'Petition findings not yet made', 'u...    Yes   \n",
       "4  [{'name': 'Petition findings not yet made', 'u...    Yes   \n",
       "\n",
       "                               Petitions Document(s)  \n",
       "0  [{'name': 'Petition to List the Dunes Sagebrus...  \n",
       "1  [{'name': 'Petition to List U.S. Populations o...  \n",
       "2  [{'name': 'Petition to List the Siskiyou Mount...  \n",
       "3  [{'name': 'Yellowstone Bison Petition Volume 2...  \n",
       "4  [{'name': 'PETITION TO LIST THE REFUGIO MANZAN...  "
      ]
     },
     "execution_count": 9,
     "metadata": {},
     "output_type": "execute_result"
    }
   ],
   "source": [
    "df_petitions = pd.DataFrame(r['data'], columns=columnheaders)\n",
    "df_petitions.head()"
   ]
  },
  {
   "cell_type": "markdown",
   "metadata": {},
   "source": [
    "The `Date Received by the FWS` field contains the date that the petition was submitted. We can add a column to the petition data that contains the year component of this date."
   ]
  },
  {
   "cell_type": "code",
   "execution_count": 10,
   "metadata": {},
   "outputs": [
    {
     "data": {
      "text/html": [
       "<div>\n",
       "<style scoped>\n",
       "    .dataframe tbody tr th:only-of-type {\n",
       "        vertical-align: middle;\n",
       "    }\n",
       "\n",
       "    .dataframe tbody tr th {\n",
       "        vertical-align: top;\n",
       "    }\n",
       "\n",
       "    .dataframe thead th {\n",
       "        text-align: right;\n",
       "    }\n",
       "</style>\n",
       "<table border=\"1\" class=\"dataframe\">\n",
       "  <thead>\n",
       "    <tr style=\"text-align: right;\">\n",
       "      <th></th>\n",
       "      <th>Petition Title</th>\n",
       "      <th>Date Received by the FWS</th>\n",
       "      <th>Where the species is believed to or known to occur</th>\n",
       "      <th>Petitioner Name</th>\n",
       "      <th>Requested Action</th>\n",
       "      <th>Petition Finding(s)</th>\n",
       "      <th>Active</th>\n",
       "      <th>Petitions Document(s)</th>\n",
       "      <th>year_received</th>\n",
       "    </tr>\n",
       "  </thead>\n",
       "  <tbody>\n",
       "    <tr>\n",
       "      <th>0</th>\n",
       "      <td>Petition to List the Dunes Sagebrush Lizard as...</td>\n",
       "      <td>06/01/2018</td>\n",
       "      <td>NM, TX</td>\n",
       "      <td>[Center for Biological Diversity, Defenders of...</td>\n",
       "      <td>[Listing: Threatened or Endangered, APA: Desig...</td>\n",
       "      <td>[{'name': 'Petition findings not yet made', 'u...</td>\n",
       "      <td>Yes</td>\n",
       "      <td>[{'name': 'Petition to List the Dunes Sagebrus...</td>\n",
       "      <td>2018</td>\n",
       "    </tr>\n",
       "    <tr>\n",
       "      <th>1</th>\n",
       "      <td>Petition to List U.S. Populations of Lake Stur...</td>\n",
       "      <td>05/23/2018</td>\n",
       "      <td>AL, AR, GA, IA, IL, IN, KS, KY, LA, MI, MN, MO...</td>\n",
       "      <td>[Center for Biological Diversity]</td>\n",
       "      <td>[Listing: Threatened or Endangered, APA: Desig...</td>\n",
       "      <td>[{'name': 'Petition findings not yet made', 'u...</td>\n",
       "      <td>Yes</td>\n",
       "      <td>[{'name': 'Petition to List U.S. Populations o...</td>\n",
       "      <td>2018</td>\n",
       "    </tr>\n",
       "    <tr>\n",
       "      <th>2</th>\n",
       "      <td>Petition to List the Siskiyou Mountains Salama...</td>\n",
       "      <td>03/12/2018</td>\n",
       "      <td>CA, OR</td>\n",
       "      <td>[Cascadia Wildlands, Center for Biological Div...</td>\n",
       "      <td>[Listing: Threatened or Endangered, APA: Desig...</td>\n",
       "      <td>[{'name': 'Petition findings not yet made', 'u...</td>\n",
       "      <td>Yes</td>\n",
       "      <td>[{'name': 'Petition to List the Siskiyou Mount...</td>\n",
       "      <td>2018</td>\n",
       "    </tr>\n",
       "    <tr>\n",
       "      <th>3</th>\n",
       "      <td>Yellowstone Bison DPS</td>\n",
       "      <td>03/05/2018</td>\n",
       "      <td>CO, IA, MT, OK, SD, UT, WY, Canada, Mexico, Un...</td>\n",
       "      <td>[James Horsley]</td>\n",
       "      <td>[Listing: Threatened, APA: Designate Critical ...</td>\n",
       "      <td>[{'name': 'Petition findings not yet made', 'u...</td>\n",
       "      <td>Yes</td>\n",
       "      <td>[{'name': 'Yellowstone Bison Petition Volume 2...</td>\n",
       "      <td>2018</td>\n",
       "    </tr>\n",
       "    <tr>\n",
       "      <th>4</th>\n",
       "      <td>PETITION TO LIST THE REFUGIO MANZANITA (ARCTOS...</td>\n",
       "      <td>11/30/2017</td>\n",
       "      <td>CA</td>\n",
       "      <td>[Los Padres ForestWatch, The Chaparral Institu...</td>\n",
       "      <td>[Listing: Endangered, APA: Designate Critical ...</td>\n",
       "      <td>[{'name': 'Petition findings not yet made', 'u...</td>\n",
       "      <td>Yes</td>\n",
       "      <td>[{'name': 'PETITION TO LIST THE REFUGIO MANZAN...</td>\n",
       "      <td>2017</td>\n",
       "    </tr>\n",
       "  </tbody>\n",
       "</table>\n",
       "</div>"
      ],
      "text/plain": [
       "                                      Petition Title Date Received by the FWS  \\\n",
       "0  Petition to List the Dunes Sagebrush Lizard as...               06/01/2018   \n",
       "1  Petition to List U.S. Populations of Lake Stur...               05/23/2018   \n",
       "2  Petition to List the Siskiyou Mountains Salama...               03/12/2018   \n",
       "3                              Yellowstone Bison DPS               03/05/2018   \n",
       "4  PETITION TO LIST THE REFUGIO MANZANITA (ARCTOS...               11/30/2017   \n",
       "\n",
       "  Where the species is believed to or known to occur  \\\n",
       "0                                             NM, TX   \n",
       "1  AL, AR, GA, IA, IL, IN, KS, KY, LA, MI, MN, MO...   \n",
       "2                                             CA, OR   \n",
       "3  CO, IA, MT, OK, SD, UT, WY, Canada, Mexico, Un...   \n",
       "4                                                 CA   \n",
       "\n",
       "                                     Petitioner Name  \\\n",
       "0  [Center for Biological Diversity, Defenders of...   \n",
       "1                  [Center for Biological Diversity]   \n",
       "2  [Cascadia Wildlands, Center for Biological Div...   \n",
       "3                                    [James Horsley]   \n",
       "4  [Los Padres ForestWatch, The Chaparral Institu...   \n",
       "\n",
       "                                    Requested Action  \\\n",
       "0  [Listing: Threatened or Endangered, APA: Desig...   \n",
       "1  [Listing: Threatened or Endangered, APA: Desig...   \n",
       "2  [Listing: Threatened or Endangered, APA: Desig...   \n",
       "3  [Listing: Threatened, APA: Designate Critical ...   \n",
       "4  [Listing: Endangered, APA: Designate Critical ...   \n",
       "\n",
       "                                 Petition Finding(s) Active  \\\n",
       "0  [{'name': 'Petition findings not yet made', 'u...    Yes   \n",
       "1  [{'name': 'Petition findings not yet made', 'u...    Yes   \n",
       "2  [{'name': 'Petition findings not yet made', 'u...    Yes   \n",
       "3  [{'name': 'Petition findings not yet made', 'u...    Yes   \n",
       "4  [{'name': 'Petition findings not yet made', 'u...    Yes   \n",
       "\n",
       "                               Petitions Document(s) year_received  \n",
       "0  [{'name': 'Petition to List the Dunes Sagebrus...          2018  \n",
       "1  [{'name': 'Petition to List U.S. Populations o...          2018  \n",
       "2  [{'name': 'Petition to List the Siskiyou Mount...          2018  \n",
       "3  [{'name': 'Yellowstone Bison Petition Volume 2...          2018  \n",
       "4  [{'name': 'PETITION TO LIST THE REFUGIO MANZAN...          2017  "
      ]
     },
     "execution_count": 10,
     "metadata": {},
     "output_type": "execute_result"
    }
   ],
   "source": [
    "df_petitions['year_received'] = df_petitions.apply(lambda x: x['Date Received by the FWS'][-4:], axis=1)\n",
    "df_petitions.head()"
   ]
  },
  {
   "cell_type": "markdown",
   "metadata": {},
   "source": [
    "Some petitions request that multiple species be listed under the ESA. We can find these exceptions if we look in the `Petition Title` field. We can use a function to check if the Petition Title refers to multiple species. "
   ]
  },
  {
   "cell_type": "code",
   "execution_count": 11,
   "metadata": {},
   "outputs": [],
   "source": [
    "def parseSpeciesNumber(petitionTitle):\n",
    "    nspecies = re.findall('\\d+', petitionTitle)\n",
    "    if len(nspecies) > 0:\n",
    "        return int(nspecies[0])\n",
    "    else:\n",
    "        return 1"
   ]
  },
  {
   "cell_type": "code",
   "execution_count": 12,
   "metadata": {},
   "outputs": [
    {
     "data": {
      "text/html": [
       "<div>\n",
       "<style scoped>\n",
       "    .dataframe tbody tr th:only-of-type {\n",
       "        vertical-align: middle;\n",
       "    }\n",
       "\n",
       "    .dataframe tbody tr th {\n",
       "        vertical-align: top;\n",
       "    }\n",
       "\n",
       "    .dataframe thead th {\n",
       "        text-align: right;\n",
       "    }\n",
       "</style>\n",
       "<table border=\"1\" class=\"dataframe\">\n",
       "  <thead>\n",
       "    <tr style=\"text-align: right;\">\n",
       "      <th></th>\n",
       "      <th>Petition Title</th>\n",
       "      <th>Date Received by the FWS</th>\n",
       "      <th>Where the species is believed to or known to occur</th>\n",
       "      <th>Petitioner Name</th>\n",
       "      <th>Requested Action</th>\n",
       "      <th>Petition Finding(s)</th>\n",
       "      <th>Active</th>\n",
       "      <th>Petitions Document(s)</th>\n",
       "      <th>year_received</th>\n",
       "      <th>n_species</th>\n",
       "    </tr>\n",
       "  </thead>\n",
       "  <tbody>\n",
       "    <tr>\n",
       "      <th>171</th>\n",
       "      <td>475 Southwestern species; List T/E</td>\n",
       "      <td>06/25/2007</td>\n",
       "      <td>AL, AR, AZ, CA, CO, IL, KS, KY, LA, MT, NC, NM...</td>\n",
       "      <td>[Forest Guardians , Nicole J. Rosmarino, Conse...</td>\n",
       "      <td>[Listing: Threatened or Endangered]</td>\n",
       "      <td>[{'name': '12 Month Not Warranted on 09/27/200...</td>\n",
       "      <td>Yes</td>\n",
       "      <td>[{'name': 'Petition to list 475 Southwest spec...</td>\n",
       "      <td>2007</td>\n",
       "      <td>475</td>\n",
       "    </tr>\n",
       "    <tr>\n",
       "      <th>101</th>\n",
       "      <td>404 Southeast aquatic species; list w/CH</td>\n",
       "      <td>04/20/2010</td>\n",
       "      <td>AL, AR, CO, CT, DC, DE, FL, GA, IA, IL, IN, KS...</td>\n",
       "      <td>[Alabama Rivers Alliance, Center for Biologica...</td>\n",
       "      <td>[Listing: Threatened or Endangered, APA: Desig...</td>\n",
       "      <td>[{'name': '12 Month Warranted But Precluded on...</td>\n",
       "      <td>Yes</td>\n",
       "      <td>[{'name': 'Withdrawal of Three crayfish', 'url...</td>\n",
       "      <td>2010</td>\n",
       "      <td>404</td>\n",
       "    </tr>\n",
       "    <tr>\n",
       "      <th>214</th>\n",
       "      <td>List 225 Candidate Species with Critical Habitat</td>\n",
       "      <td>05/11/2004</td>\n",
       "      <td>AL, American Samoa, AR, AZ, CA, CO, DE, FL, GA...</td>\n",
       "      <td>[Barbara Kingsolver, , Biodiversity Conservati...</td>\n",
       "      <td>[Listing: Threatened or Endangered, Listing: T...</td>\n",
       "      <td>[{'name': '12 Month Not Warranted on 05/11/200...</td>\n",
       "      <td>No</td>\n",
       "      <td>[{'name': 'Petition to list 225 species- cover...</td>\n",
       "      <td>2004</td>\n",
       "      <td>225</td>\n",
       "    </tr>\n",
       "    <tr>\n",
       "      <th>168</th>\n",
       "      <td>206 Mountain-Prairie Region species - List as T/E</td>\n",
       "      <td>07/30/2007</td>\n",
       "      <td>AR, AZ, CO, IA, ID, KS, MT, NE, NM, NV, OR, UT...</td>\n",
       "      <td>[Forest Guardians  Nicole J. Rosmarino  ]</td>\n",
       "      <td>[Listing: Threatened or Endangered, Listing: E...</td>\n",
       "      <td>[{'name': '90 Day Not Substantial on 01/06/200...</td>\n",
       "      <td>Yes</td>\n",
       "      <td>[{'name': 'Petition to list 206 Mountain-Prair...</td>\n",
       "      <td>2007</td>\n",
       "      <td>206</td>\n",
       "    </tr>\n",
       "    <tr>\n",
       "      <th>421</th>\n",
       "      <td>Northern goshawk (Accipiter gentilis) in the f...</td>\n",
       "      <td>09/26/1991</td>\n",
       "      <td>AK, AL, AR, AZ, CA, FL, GA, IA, ID, IL, IN, KS...</td>\n",
       "      <td>[Dr. Robin D. Silver  and  10 others ]</td>\n",
       "      <td>[Listing: Endangered, APA: Designate Critical ...</td>\n",
       "      <td>[{'name': '12 Month Not Warranted on 06/22/199...</td>\n",
       "      <td>No</td>\n",
       "      <td>[{'name': 'Northern goshawk petition', 'url': ...</td>\n",
       "      <td>1991</td>\n",
       "      <td>100</td>\n",
       "    </tr>\n",
       "  </tbody>\n",
       "</table>\n",
       "</div>"
      ],
      "text/plain": [
       "                                        Petition Title  \\\n",
       "171                 475 Southwestern species; List T/E   \n",
       "101           404 Southeast aquatic species; list w/CH   \n",
       "214   List 225 Candidate Species with Critical Habitat   \n",
       "168  206 Mountain-Prairie Region species - List as T/E   \n",
       "421  Northern goshawk (Accipiter gentilis) in the f...   \n",
       "\n",
       "    Date Received by the FWS  \\\n",
       "171               06/25/2007   \n",
       "101               04/20/2010   \n",
       "214               05/11/2004   \n",
       "168               07/30/2007   \n",
       "421               09/26/1991   \n",
       "\n",
       "    Where the species is believed to or known to occur  \\\n",
       "171  AL, AR, AZ, CA, CO, IL, KS, KY, LA, MT, NC, NM...   \n",
       "101  AL, AR, CO, CT, DC, DE, FL, GA, IA, IL, IN, KS...   \n",
       "214  AL, American Samoa, AR, AZ, CA, CO, DE, FL, GA...   \n",
       "168  AR, AZ, CO, IA, ID, KS, MT, NE, NM, NV, OR, UT...   \n",
       "421  AK, AL, AR, AZ, CA, FL, GA, IA, ID, IL, IN, KS...   \n",
       "\n",
       "                                       Petitioner Name  \\\n",
       "171  [Forest Guardians , Nicole J. Rosmarino, Conse...   \n",
       "101  [Alabama Rivers Alliance, Center for Biologica...   \n",
       "214  [Barbara Kingsolver, , Biodiversity Conservati...   \n",
       "168          [Forest Guardians  Nicole J. Rosmarino  ]   \n",
       "421             [Dr. Robin D. Silver  and  10 others ]   \n",
       "\n",
       "                                      Requested Action  \\\n",
       "171                [Listing: Threatened or Endangered]   \n",
       "101  [Listing: Threatened or Endangered, APA: Desig...   \n",
       "214  [Listing: Threatened or Endangered, Listing: T...   \n",
       "168  [Listing: Threatened or Endangered, Listing: E...   \n",
       "421  [Listing: Endangered, APA: Designate Critical ...   \n",
       "\n",
       "                                   Petition Finding(s) Active  \\\n",
       "171  [{'name': '12 Month Not Warranted on 09/27/200...    Yes   \n",
       "101  [{'name': '12 Month Warranted But Precluded on...    Yes   \n",
       "214  [{'name': '12 Month Not Warranted on 05/11/200...     No   \n",
       "168  [{'name': '90 Day Not Substantial on 01/06/200...    Yes   \n",
       "421  [{'name': '12 Month Not Warranted on 06/22/199...     No   \n",
       "\n",
       "                                 Petitions Document(s) year_received  \\\n",
       "171  [{'name': 'Petition to list 475 Southwest spec...          2007   \n",
       "101  [{'name': 'Withdrawal of Three crayfish', 'url...          2010   \n",
       "214  [{'name': 'Petition to list 225 species- cover...          2004   \n",
       "168  [{'name': 'Petition to list 206 Mountain-Prair...          2007   \n",
       "421  [{'name': 'Northern goshawk petition', 'url': ...          1991   \n",
       "\n",
       "     n_species  \n",
       "171        475  \n",
       "101        404  \n",
       "214        225  \n",
       "168        206  \n",
       "421        100  "
      ]
     },
     "execution_count": 12,
     "metadata": {},
     "output_type": "execute_result"
    }
   ],
   "source": [
    "df_petitions['n_species'] = df_petitions.apply(lambda x: parseSpeciesNumber(x['Petition Title']), axis=1)\n",
    "df_petitions.at[576, 'n_species'] = 1\n",
    "df_petitions.at[577, 'n_species'] = 1\n",
    "df_petitions.at[582, 'n_species'] = 1\n",
    "df_petitions.at[598, 'n_species'] = 1\n",
    "df_petitions.at[715, 'n_species'] = 1\n",
    "df_petitions.sort_values(by='n_species', ascending=False).head()"
   ]
  },
  {
   "cell_type": "markdown",
   "metadata": {},
   "source": [
    "Let's look at a bar graph to see the number of species petitioned per year."
   ]
  },
  {
   "cell_type": "code",
   "execution_count": 13,
   "metadata": {},
   "outputs": [
    {
     "data": {
      "image/png": "[encoded data removed]",
      "text/plain": [
       "<Figure size 1152x576 with 1 Axes>"
      ]
     },
     "metadata": {},
     "output_type": "display_data"
    }
   ],
   "source": [
    "petitions_per_year = df_petitions[['year_received', 'n_species']].groupby('year_received').sum()\n",
    "plt.rcParams['figure.figsize'] = [16, 8]\n",
    "petitions_per_year.plot(kind='bar', color='blue');"
   ]
  },
  {
   "cell_type": "markdown",
   "metadata": {},
   "source": [
    "## Combining species and petition data\n",
    "\n",
    "We can merge the two DataFrames that summarize species and petitions by year."
   ]
  },
  {
   "cell_type": "code",
   "execution_count": 14,
   "metadata": {},
   "outputs": [
    {
     "data": {
      "text/html": [
       "<div>\n",
       "<style scoped>\n",
       "    .dataframe tbody tr th:only-of-type {\n",
       "        vertical-align: middle;\n",
       "    }\n",
       "\n",
       "    .dataframe tbody tr th {\n",
       "        vertical-align: top;\n",
       "    }\n",
       "\n",
       "    .dataframe thead th {\n",
       "        text-align: right;\n",
       "    }\n",
       "</style>\n",
       "<table border=\"1\" class=\"dataframe\">\n",
       "  <thead>\n",
       "    <tr style=\"text-align: right;\">\n",
       "      <th></th>\n",
       "      <th>Species Petitioned</th>\n",
       "      <th>Species Added</th>\n",
       "    </tr>\n",
       "  </thead>\n",
       "  <tbody>\n",
       "    <tr>\n",
       "      <th>1967</th>\n",
       "      <td>0.0</td>\n",
       "      <td>81.0</td>\n",
       "    </tr>\n",
       "    <tr>\n",
       "      <th>1970</th>\n",
       "      <td>0.0</td>\n",
       "      <td>60.0</td>\n",
       "    </tr>\n",
       "    <tr>\n",
       "      <th>1972</th>\n",
       "      <td>0.0</td>\n",
       "      <td>3.0</td>\n",
       "    </tr>\n",
       "    <tr>\n",
       "      <th>1973</th>\n",
       "      <td>0.0</td>\n",
       "      <td>8.0</td>\n",
       "    </tr>\n",
       "    <tr>\n",
       "      <th>1974</th>\n",
       "      <td>9.0</td>\n",
       "      <td>0.0</td>\n",
       "    </tr>\n",
       "  </tbody>\n",
       "</table>\n",
       "</div>"
      ],
      "text/plain": [
       "      Species Petitioned  Species Added\n",
       "1967                 0.0           81.0\n",
       "1970                 0.0           60.0\n",
       "1972                 0.0            3.0\n",
       "1973                 0.0            8.0\n",
       "1974                 9.0            0.0"
      ]
     },
     "execution_count": 14,
     "metadata": {},
     "output_type": "execute_result"
    }
   ],
   "source": [
    "df_merged = pd.concat([petitions_per_year, year_counts], axis=1, sort=True).fillna(0)\n",
    "df_merged = df_merged.rename(index=str, columns={\"listyear\": \"Species Added\", \"n_species\": \"Species Petitioned\"})\n",
    "df_merged.head()"
   ]
  },
  {
   "cell_type": "markdown",
   "metadata": {},
   "source": [
    "We can plot the merged DataFrame to see how the species added and the species petitioned compare each year."
   ]
  },
  {
   "cell_type": "code",
   "execution_count": 15,
   "metadata": {},
   "outputs": [
    {
     "data": {
      "image/png": "[encoded data removed]",
      "text/plain": [
       "<Figure size 1152x576 with 1 Axes>"
      ]
     },
     "metadata": {},
     "output_type": "display_data"
    }
   ],
   "source": [
    "df_merged.plot.bar();"
   ]
  },
  {
   "cell_type": "markdown",
   "metadata": {},
   "source": [
    "## Conclusions\n",
    "\n",
    "There seem to be a couple broad trends we can draw from all our analyses.\n",
    "\n",
    "- Looking at the numbers of petitions per year, it seems that petitioning to add species to the ESA has gotten more common over time. There are few petitions before 1990, and what seem to be a significant amount after 2000. \n",
    "\n",
    "\n",
    "- Looking at the species added per year, the data seem to be multimodal. Perhaps this could reflect the political climate of the time, and the executive branch's views on protecting endangered and threatened species?\n",
    "\n",
    "And there are more analyses we could pursue, if we wanted to delve more deeply:\n",
    "\n",
    "- Explore the actual `Petition Finding(s)` from the petition data. How successful are petitions?\n",
    "\n",
    "\n",
    "- Do petitions or FWS scientists have a greater impact on getting species listed under the ESA?\n",
    "\n",
    "\n",
    "- How do the types of species (plant, animal, invertebrate, etc.) affect the success of a petition, or the likelihood that a species will be listed?\n",
    "\n",
    "Feel free to clone this notebook and do some of these further analyses, if you are interested in learning more!"
   ]
  }
 ],
 "metadata": {
  "kernelspec": {
   "display_name": "Python 3",
   "language": "python",
   "name": "python3"
  },
  "language_info": {
   "codemirror_mode": {
    "name": "ipython",
    "version": 3
   },
   "file_extension": ".py",
   "mimetype": "text/x-python",
   "name": "python",
   "nbconvert_exporter": "python",
   "pygments_lexer": "ipython3",
   "version": "3.6.5"
  }
 },
 "nbformat": 4,
 "nbformat_minor": 2
}
