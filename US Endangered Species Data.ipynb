{
 "cells": [
  {
   "cell_type": "markdown",
   "metadata": {},
   "source": [
    "Last updated: 27 Jul 2018\n",
    "\n",
    "# Exploring US Endangered Species Data with Python\n",
    "\n",
    "This notebook retrieves data from the US Fish & Wildlife Service on registered endangered species. It runs a simple analysis and returns a visualization of types and locations of species."
   ]
  },
  {
   "cell_type": "code",
   "execution_count": 2,
   "metadata": {},
   "outputs": [],
   "source": [
    "%matplotlib inline\n",
    "from bs4 import BeautifulSoup\n",
    "import pandas as pd\n",
    "import requests"
   ]
  },
  {
   "cell_type": "markdown",
   "metadata": {},
   "source": [
    "## Data Source\n",
    "\n",
    "Data are retrieved from the U.S. Fish & Wildlife Service [Environmental Conservation Online System](https://ecos.fws.gov/ecp/), which reports on Threatened & Endangered Species. A number of different reports are available here: https://ecos.fws.gov/ecp/species-reports.\n",
    "\n",
    "When you examine several reports, you can see that they are all generated from one endpoint: `https://ecos.fws.gov/ecp0/reports/ad-hoc-species-report`\n",
    "\n",
    "By providing a specific query string, you can generate a custom report of the preferred fields and types of organisms."
   ]
  },
  {
   "cell_type": "code",
   "execution_count": 7,
   "metadata": {},
   "outputs": [],
   "source": [
    "url = 'https://ecos.fws.gov/ecp0/reports/ad-hoc-species-report'\n",
    "params = {\n",
    "    'kingdom': 'V', 'kingdom': 'I', 'kingdom': 'P',\n",
    "    'status': 'E', 'status': 'T',\n",
    "    'mapstatus': 3, \n",
    "    'fstatus': 'on', 'finvpop': 'on', 'fgroup': 'on', 'ffamily': 'on',\n",
    "    'header': 'Listed Vertebrates, Invertebrates, and Plants'\n",
    "}\n",
    "r = requests.get(url, params)\n",
    "with open('endangered_threatened_species.txt', 'w') as f:\n",
    "    f.write(r.text)"
   ]
  },
  {
   "cell_type": "markdown",
   "metadata": {},
   "source": [
    "Counts every species ever listed as threatened or endangered under the Endangered Species Act (inc. distinct population segments)\n",
    "\n",
    "https://ecos.fws.gov/ecp0/reports/species-listings-count-by-year-report\n",
    "\n",
    "https://ecos.fws.gov/ecp0/reports/species-listings-by-year-report?year=2018"
   ]
  },
  {
   "cell_type": "markdown",
   "metadata": {},
   "source": [
    "Endangered species listings petitions received\n",
    "\n",
    "https://ecos.fws.gov/ecp/report/table/petitions-received.json\n",
    "\n",
    "https://ecos.fws.gov/ecp/report/table/petitions-received.json?&active=any\n",
    "\n",
    "Formatted weird - first dict item is \"metadata\", which contains all the column names. Second dict item is \"data\", which contains a list of lists. Items do not have keys, they must be positionally relayed to the metadata.\n"
   ]
  },
  {
   "cell_type": "code",
   "execution_count": 12,
   "metadata": {},
   "outputs": [],
   "source": [
    "r2 = requests.get('https://ecos.fws.gov/ecp/report/table/petitions-received.json?&active=any')\n",
    "with open('listings_requests.json', 'w', encoding='utf-8') as f2:\n",
    "    f2.write(r2.text)"
   ]
  },
  {
   "cell_type": "code",
   "execution_count": null,
   "metadata": {},
   "outputs": [],
   "source": []
  }
 ],
 "metadata": {
  "kernelspec": {
   "display_name": "Python 3",
   "language": "python",
   "name": "python3"
  },
  "language_info": {
   "codemirror_mode": {
    "name": "ipython",
    "version": 3
   },
   "file_extension": ".py",
   "mimetype": "text/x-python",
   "name": "python",
   "nbconvert_exporter": "python",
   "pygments_lexer": "ipython3",
   "version": "3.6.5"
  }
 },
 "nbformat": 4,
 "nbformat_minor": 2
}
