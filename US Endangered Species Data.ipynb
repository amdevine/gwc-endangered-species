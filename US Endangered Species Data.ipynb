{
 "cells": [
  {
   "cell_type": "markdown",
   "metadata": {
    "slideshow": {
     "slide_type": "slide"
    }
   },
   "source": [
    "Last updated: 27 Jul 2018\n",
    "\n",
    "# Exploring US Endangered Species Data with Python\n",
    "\n",
    "This notebook retrieves data from the US Fish & Wildlife Service on endangered and threatened species. It runs a simple analysis and returns a visualization of types and locations of species."
   ]
  },
  {
   "cell_type": "code",
   "execution_count": 1,
   "metadata": {
    "slideshow": {
     "slide_type": "slide"
    }
   },
   "outputs": [],
   "source": [
    "%matplotlib inline\n",
    "from bs4 import BeautifulSoup \n",
    "import pandas as pd\n",
    "import re, requests\n",
    "import matplotlib.pyplot as plt\n",
    "plt.rcParams['figure.figsize'] = [12, 8]"
   ]
  },
  {
   "cell_type": "markdown",
   "metadata": {
    "slideshow": {
     "slide_type": "slide"
    }
   },
   "source": [
    "## Data Source\n",
    "\n",
    "Data are retrieved from the U.S. Fish & Wildlife Service [Environmental Conservation Online System](https://ecos.fws.gov/ecp/), which reports on Threatened & Endangered species in the United Statesthat are protected by the Endangered Species Act. \n",
    "\n",
    "There are a number of different reports are available here: https://ecos.fws.gov/ecp/species-reports. They are mostly provided as sortable tables, viewable online."
   ]
  },
  {
   "cell_type": "markdown",
   "metadata": {
    "slideshow": {
     "slide_type": "slide"
    }
   },
   "source": [
    "## What question are we asking?\n",
    "\n",
    "After looking at some of the available datasets, it seems like there are data available on how many requests were made to list species, when species were officially listed, and in what US states they can be found.\n",
    "\n",
    "For the purposes of this analysis, I would like to ask the following questions:\n",
    "\n",
    "> *1. Which US states are most effective at getting species listed under the Endangered Species Act?*\n",
    "\n",
    "> *2. How has the rate of getting species listed changed over time?*"
   ]
  },
  {
   "cell_type": "markdown",
   "metadata": {
    "slideshow": {
     "slide_type": "slide"
    }
   },
   "source": [
    "## 1. Which US states are most effective at getting species listed under the Endangered Species Act?\n",
    "\n"
   ]
  },
  {
   "cell_type": "markdown",
   "metadata": {
    "slideshow": {
     "slide_type": "slide"
    }
   },
   "source": [
    "## 2. Listing species over time\n",
    "\n"
   ]
  },
  {
   "cell_type": "markdown",
   "metadata": {
    "slideshow": {
     "slide_type": "-"
    }
   },
   "source": [
    "We can scrape the [U.S. Federal Endangered and Threatened Species by Calendar Year](https://ecos.fws.gov/ecp0/reports/species-listings-count-by-year-report) report to get counts of species listed by year. "
   ]
  },
  {
   "cell_type": "code",
   "execution_count": 2,
   "metadata": {
    "slideshow": {
     "slide_type": "-"
    }
   },
   "outputs": [
    {
     "name": "stdout",
     "output_type": "stream",
     "text": [
      "1967, 1970, 1972, 1973, 1975, 1976, 1977, 1978, 1979, 1980, 1981, 1982, 1983, 1984, 1985, 1986, 1987, 1988, 1989, 1990, 1991, 1992, 1993, 1994, 1995, 1996, 1997, 1998, 1999, 2000, 2001, 2002, 2003, 2004, 2005, 2006, 2007, 2008, 2009, 2010, 2011, 2012, 2013, 2014, 2015, 2016, 2017, 2018\n"
     ]
    }
   ],
   "source": [
    "url = 'https://ecos.fws.gov/ecp0/reports/species-listings-count-by-year-report'\n",
    "r = requests.get(url)\n",
    "soup = BeautifulSoup(r.text, \"html5lib\")\n",
    "rows = soup.table.find_all('tr')\n",
    "listing_years = set()\n",
    "for row in rows:\n",
    "    values = row.find_all('td')\n",
    "    if len(values) > 0:\n",
    "        listing_years.add(values[0].string)\n",
    "listing_years = sorted(list(listing_years))\n",
    "print(\", \".join(listing_years))"
   ]
  },
  {
   "cell_type": "markdown",
   "metadata": {
    "slideshow": {
     "slide_type": "-"
    }
   },
   "source": [
    "Unfortunately, there is some redundancy in the reported counts, so we can't rely on these numbers alone to get accurate counts. We can get a list of reported years."
   ]
  },
  {
   "cell_type": "markdown",
   "metadata": {
    "slideshow": {
     "slide_type": "slide"
    }
   },
   "source": [
    "We can take the list of years we determined from the last step, and query the [Species Listed During Calendar Year](https://ecos.fws.gov/ecp0/reports/species-listings-by-year-report?year=2018) reports for each year in `listing_years`."
   ]
  },
  {
   "cell_type": "code",
   "execution_count": 3,
   "metadata": {
    "slideshow": {
     "slide_type": "-"
    }
   },
   "outputs": [
    {
     "name": "stdout",
     "output_type": "stream",
     "text": [
      "3579 species records read from Species Listed During Calendar Year\n"
     ]
    }
   ],
   "source": [
    "url = 'https://ecos.fws.gov/ecp0/reports/species-listings-by-year-report'\n",
    "all_species = []\n",
    "for y in listing_years:\n",
    "    params = {'year': y}\n",
    "    r = requests.get(url, params)\n",
    "    soup = BeautifulSoup(r.text, \"html5lib\")\n",
    "    rows = soup.table.find_all('tr')\n",
    "    for row in rows:\n",
    "        species = {}\n",
    "        data = row.find_all('td')\n",
    "        if len(data) > 0:\n",
    "            splink = data[2].a['href']\n",
    "            spcode = re.findall('spcode=(\\w{4})', splink)[0]\n",
    "            species['spcode'] = spcode\n",
    "            species['sciname'] = data[2].string\n",
    "            species['status'] = data[3].string\n",
    "            species['listyear'] = y\n",
    "            all_species.append(species)\n",
    "print(f'{len(all_species)} species records read from Species Listed During Calendar Year')"
   ]
  },
  {
   "cell_type": "markdown",
   "metadata": {
    "slideshow": {
     "slide_type": "slide"
    }
   },
   "source": [
    "We can take the `all_species` records and put them into a pandas DataFrame. We can also drop the duplicate values that were throwing off the original counts."
   ]
  },
  {
   "cell_type": "code",
   "execution_count": 4,
   "metadata": {
    "scrolled": true,
    "slideshow": {
     "slide_type": "-"
    }
   },
   "outputs": [
    {
     "name": "stdout",
     "output_type": "stream",
     "text": [
      "1811 species records remaining after dropping duplicates\n"
     ]
    }
   ],
   "source": [
    "df_years = pd.DataFrame(all_species)\n",
    "df_years = df_years[['spcode', 'sciname', 'status', 'listyear']]\n",
    "df_years = df_years.drop_duplicates()\n",
    "print(f'{len(df_years)} species records remaining after dropping duplicates')"
   ]
  },
  {
   "cell_type": "markdown",
   "metadata": {
    "slideshow": {
     "slide_type": "slide"
    }
   },
   "source": [
    "Summarize the data table - counts by year"
   ]
  },
  {
   "cell_type": "code",
   "execution_count": 5,
   "metadata": {
    "slideshow": {
     "slide_type": "-"
    }
   },
   "outputs": [
    {
     "data": {
      "image/png": "[encoded data removed]",
      "text/plain": [
       "<matplotlib.figure.Figure at 0x3cb3b30>"
      ]
     },
     "metadata": {},
     "output_type": "display_data"
    }
   ],
   "source": [
    "year_counts = df_years['listyear'].value_counts().sort_index()\n",
    "year_counts.plot(kind='bar');"
   ]
  },
  {
   "cell_type": "code",
   "execution_count": 22,
   "metadata": {},
   "outputs": [],
   "source": [
    "url = 'https://ecos.fws.gov/ecp/report/table/petitions-received.json'\n",
    "params = {'active': 'any'}\n",
    "r = requests.get(url, params).json()"
   ]
  },
  {
   "cell_type": "code",
   "execution_count": 23,
   "metadata": {},
   "outputs": [
    {
     "name": "stdout",
     "output_type": "stream",
     "text": [
      "['Petition Title', 'Date Received by the FWS', 'Where the species is believed to or known to occur', 'Petitioner Name', 'Requested Action', 'Petition Finding(s)', 'Active', 'Petitions Document(s)']\n"
     ]
    }
   ],
   "source": [
    "columnheaders = [x['title'] for x in r['metadata']['columns']]\n",
    "print(columnheaders)"
   ]
  },
  {
   "cell_type": "code",
   "execution_count": 24,
   "metadata": {},
   "outputs": [
    {
     "data": {
      "text/plain": [
       "750"
      ]
     },
     "execution_count": 24,
     "metadata": {},
     "output_type": "execute_result"
    }
   ],
   "source": [
    "df_petitions = pd.DataFrame(r['data'], columns=columnheaders)\n",
    "len(df_petitions)"
   ]
  },
  {
   "cell_type": "markdown",
   "metadata": {},
   "source": [
    "When you examine several reports, you can see that they are all generated from one endpoint: `https://ecos.fws.gov/ecp0/reports/ad-hoc-species-report`\n",
    "\n",
    "By providing a specific query string, you can generate a custom report of the preferred fields and types of organisms."
   ]
  },
  {
   "cell_type": "code",
   "execution_count": null,
   "metadata": {},
   "outputs": [],
   "source": [
    "url = 'https://ecos.fws.gov/ecp0/reports/ad-hoc-species-report'\n",
    "params = {\n",
    "    'kingdom': 'V', 'kingdom': 'I', 'kingdom': 'P',\n",
    "    'status': 'E', 'status': 'T',\n",
    "    'mapstatus': 3, \n",
    "    'fstatus': 'on', 'finvpop': 'on', 'fgroup': 'on', 'ffamily': 'on',\n",
    "    'header': 'Listed Vertebrates, Invertebrates, and Plants'\n",
    "}\n",
    "r = requests.get(url, params)\n",
    "with open('endangered_threatened_species.txt', 'w') as f:\n",
    "    f.write(r.text)"
   ]
  },
  {
   "cell_type": "markdown",
   "metadata": {},
   "source": [
    "Counts every species ever listed as threatened or endangered under the Endangered Species Act (inc. distinct population segments)\n",
    "\n",
    "https://ecos.fws.gov/ecp0/reports/species-listings-count-by-year-report\n",
    "\n",
    "https://ecos.fws.gov/ecp0/reports/species-listings-by-year-report?year=2018"
   ]
  },
  {
   "cell_type": "markdown",
   "metadata": {},
   "source": [
    "Endangered species listings petitions received\n",
    "\n",
    "https://ecos.fws.gov/ecp/report/table/petitions-received.json\n",
    "\n",
    "https://ecos.fws.gov/ecp/report/table/petitions-received.json?&active=any\n",
    "\n",
    "Formatted weird - first dict item is \"metadata\", which contains all the column names. Second dict item is \"data\", which contains a list of lists. Items do not have keys, they must be positionally relayed to the metadata.\n"
   ]
  },
  {
   "cell_type": "code",
   "execution_count": null,
   "metadata": {},
   "outputs": [],
   "source": [
    "r2 = requests.get('https://ecos.fws.gov/ecp/report/table/petitions-received.json?&active=any')\n",
    "with open('listings_requests.json', 'w', encoding='utf-8') as f2:\n",
    "    f2.write(r2.text)"
   ]
  },
  {
   "cell_type": "code",
   "execution_count": null,
   "metadata": {},
   "outputs": [],
   "source": []
  }
 ],
 "metadata": {
  "kernelspec": {
   "display_name": "Python 3",
   "language": "python",
   "name": "python3"
  },
  "language_info": {
   "codemirror_mode": {
    "name": "ipython",
    "version": 3
   },
   "file_extension": ".py",
   "mimetype": "text/x-python",
   "name": "python",
   "nbconvert_exporter": "python",
   "pygments_lexer": "ipython3",
   "version": "3.6.0"
  }
 },
 "nbformat": 4,
 "nbformat_minor": 2
}
